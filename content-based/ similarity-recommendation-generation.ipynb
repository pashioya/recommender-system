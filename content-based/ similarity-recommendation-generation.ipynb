{
 "cells": [
  {
   "cell_type": "code",
   "execution_count": null,
   "metadata": {},
   "outputs": [],
   "source": [
    "from sklearn.feature_extraction.text import TfidfVectorizer\n",
    "\n",
    "# Create a TF-IDF vectorizer\n",
    "tf_idf_vectorizer = TfidfVectorizer()\n",
    "\n",
    "# Fit and transform the text data to get the TF-IDF matrix\n",
    "tf_idf_matrix = tf_idf_vectorizer.fit_transform(processed_car_features['combined_text'])\n",
    "\n",
    "# The resulting tfidf_matrix is a sparse matrix containing the TF-IDF values for each term in the text.\n",
    "# You can convert it to a dense array if needed: tfidf_matrix.toarray()\n",
    "\n",
    "# Now, you can use tfidf_matrix as input for machine learning models, clustering, or other text analysis tasks.\n"
   ]
  },
  {
   "cell_type": "code",
   "execution_count": null,
   "metadata": {},
   "outputs": [],
   "source": [
    "from scipy.sparse import hstack\n",
    "\n",
    "# Combine numerical features and TF-IDF vectors\n",
    "combined_features = pd.concat([processed_car_features[numerical_features], pd.DataFrame(tf_idf_matrix.toarray())], axis=1)\n",
    "\n",
    "# If you want to stack sparse matrices horizontally, you can use hstack\n",
    "# combined_features = hstack((processed_car_features[numerical_features], tf_idf_matrix))\n",
    "\n",
    "# Now, combined_features contains both the numerical features and TF-IDF vectors.\n",
    "combined_features\n"
   ]
  },
  {
   "cell_type": "code",
   "execution_count": null,
   "metadata": {},
   "outputs": [],
   "source": [
    "from sklearn.metrics.pairwise import cosine_similarity\n",
    "\n",
    "# Calculate cosine similarity\n",
    "similarity_matrix = cosine_similarity(combined_features)\n",
    "\n",
    "# The resulting similarity_matrix will contain pairwise cosine similarity scores for all car items.\n",
    "\n",
    "# Optionally, you can convert the similarity matrix to a DataFrame for better readability\n",
    "similarity_df = pd.DataFrame(similarity_matrix, columns=range(len(combined_features)), index=range(len(combined_features)))\n",
    "#  Now, you can use similarity_matrix or similarity_df for recommendations or other similarity-based tasks\n"
   ]
  },
  {
   "cell_type": "code",
   "execution_count": null,
   "metadata": {},
   "outputs": [],
   "source": [
    "# Define a function to generate recommendations for a given car\n",
    "def generate_recommendations(car_id, combined_features, num_recommendations=5):\n",
    "    # Calculate similarity to all other cars\n",
    "    similarity_scores = cosine_similarity(combined_features)\n",
    "    \n",
    "    # Get the similarity scores for the given car\n",
    "    car_similarity_scores = similarity_scores[car_id]\n",
    "    \n",
    "    # Sort cars based on similarity scores (in descending order)\n",
    "    sorted_indices = car_similarity_scores.argsort()[::-1]\n",
    "    \n",
    "    # Select the top N cars as recommendations\n",
    "    top_recommendations = sorted_indices[1:num_recommendations + 1]  # Exclude the given car\n",
    "    \n",
    "    return top_recommendations\n",
    "\n",
    "# Example: Generate recommendations for a specific car (assuming car_id is the index of the car)\n",
    "car_id = 0  # Change this to the index of the car you want recommendations for\n",
    "num_recommendations = 5  # Number of recommendations to generate\n",
    "\n",
    "# Generate recommendations for the given car\n",
    "recommendations = generate_recommendations(car_id, combined_features, num_recommendations)\n",
    "\n",
    "# Get the details of recommended cars (assuming car_data is the original dataset)\n",
    "car_features = pd.read_csv('../datasets/clean_car_features.csv')\n",
    "recommended_cars = car_features.iloc[recommendations]\n"
   ]
  }
 ],
 "metadata": {
  "language_info": {
   "name": "python"
  }
 },
 "nbformat": 4,
 "nbformat_minor": 2
}
