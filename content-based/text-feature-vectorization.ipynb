{
 "cells": [
  {
   "cell_type": "code",
   "execution_count": 21,
   "metadata": {},
   "outputs": [],
   "source": [
    "import pandas as pd\n",
    "import numpy as np\n",
    "\n",
    "clean_car_features = pd.read_csv('../datasets/clean_car_features.csv')"
   ]
  },
  {
   "cell_type": "code",
   "execution_count": 22,
   "metadata": {},
   "outputs": [],
   "source": [
    "# Feature Selection\n",
    "#  \"Make,\" \"Model,\" \"Year,\" \"Engine Fuel Type,\" \"Transmission Type,\" \"Driven_Wheels,\" \"Market Category,\" \"Vehicle Size,\" and \"Vehicle Style\"\n",
    "\n",
    "useful_features = [\"Make\", \"Model\", \"Year\", \"Engine Fuel Type\", \"Transmission Type\", \"Driven_Wheels\", \"Market Category\", \"Vehicle Size\", \"Vehicle Style\",\"Engine HP\", \"Engine Cylinders\", \"Number of Doors\", \"MSRP\"]\n",
    "numerical_features = [\"Year\", \"Engine HP\", \"Engine Cylinders\", \"Number of Doors\", \"MSRP\"]\n"
   ]
  },
  {
   "cell_type": "code",
   "execution_count": 23,
   "metadata": {},
   "outputs": [],
   "source": [
    "# Text Data Processing\n",
    "import string\n",
    "\n",
    "# Function to clean and preprocess a text\n",
    "def preprocess_text(text):\n",
    "    # Step 1: Convert to lowercase\n",
    "    text = text.lower()\n",
    "    \n",
    "    # Step 2: Remove punctuation\n",
    "    text = ''.join([char for char in text if char not in string.punctuation])\n",
    "    \n",
    "    # Step 3: Remove words containing numbers\n",
    "    text = ' '.join([word for word in text.split() if not any(char.isdigit() for char in word)])\n",
    "    \n",
    "    # Step 4: Remove stop words (You would need a list of stop words for this step)\n",
    "    # Example: text = ' '.join([word for word in text.split() if word not in stop_words])\n",
    "    \n",
    "    return text\n",
    "\n",
    "processed_car_features = clean_car_features.copy()  # Copy the original DataFrame\n",
    "\n",
    "# Replace the ',' with a space in the Market Category column\n",
    "processed_car_features['Market Category'] = processed_car_features['Market Category'].str.replace(',', ' ')\n",
    "\n",
    "# Apply the preprocessing function to each row of the DataFrame\n",
    "processed_car_features['combined_text'] = processed_car_features[useful_features].apply(lambda x: ' '.join(x.astype(str)), axis=1)\n",
    "processed_car_features['combined_text'] = processed_car_features['combined_text'].apply(preprocess_text)\n"
   ]
  },
  {
   "cell_type": "code",
   "execution_count": 24,
   "metadata": {},
   "outputs": [
    {
     "data": {
      "text/plain": [
       "array(['bmw series m premium unleaded required manual rear wheel drive factory tuner luxury highperformance compact coupe',\n",
       "       'bmw series premium unleaded required manual rear wheel drive luxury performance compact convertible',\n",
       "       'bmw series premium unleaded required manual rear wheel drive luxury highperformance compact coupe',\n",
       "       'bmw series premium unleaded required manual rear wheel drive luxury performance compact coupe',\n",
       "       'bmw series premium unleaded required manual rear wheel drive luxury compact convertible'],\n",
       "      dtype=object)"
      ]
     },
     "execution_count": 24,
     "metadata": {},
     "output_type": "execute_result"
    }
   ],
   "source": [
    "processed_car_features['combined_text'].head().values"
   ]
  }
 ],
 "metadata": {
  "kernelspec": {
   "display_name": ".venv",
   "language": "python",
   "name": "python3"
  },
  "language_info": {
   "codemirror_mode": {
    "name": "ipython",
    "version": 3
   },
   "file_extension": ".py",
   "mimetype": "text/x-python",
   "name": "python",
   "nbconvert_exporter": "python",
   "pygments_lexer": "ipython3",
   "version": "3.11.6"
  }
 },
 "nbformat": 4,
 "nbformat_minor": 2
}
